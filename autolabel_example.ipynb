{
 "cells": [
  {
   "cell_type": "markdown",
   "metadata": {},
   "source": [
    "# Set up autolabeling for your Label Studio project.\n",
    "\n",
    "First, set up the tool that will connect to the MLflow model, and serve it to LS.\n",
    "\n",
    "### Start docker on your machine, then run below code from a separate terminal/notebook.\n",
    "```\n",
    "git clone https://github.com/DagsHub/ls-configurable-model ; cd ls-configurable-model\n",
    "cd ls-configurable-model\n",
    "git submodule update --init\n",
    "docker build . -t configurable-ls-backend\n",
    "docker run -p 9090:9090 configurable-ls-backend\n",
    "pip install -r requirements-base.txt\n",
    "```"
   ]
  },
  {
   "cell_type": "markdown",
   "metadata": {},
   "source": [
    "Now, you can come back to the notebook 😃"
   ]
  },
  {
   "cell_type": "code",
   "execution_count": null,
   "metadata": {
    "colab": {
     "base_uri": "https://localhost:8080/"
    },
    "id": "BEPvxCP1fle_",
    "outputId": "fda618dc-ea87-4524-c194-40d3e7a68391"
   },
   "outputs": [],
   "source": [
    "%pip install dagshub ipywidgets"
   ]
  },
  {
   "cell_type": "code",
   "execution_count": null,
   "metadata": {
    "colab": {
     "base_uri": "https://localhost:8080/",
     "height": 412
    },
    "id": "g0k_zOHifFo1",
    "outputId": "0b4d04ce-5b33-40d8-ebd8-eb0401ebe892"
   },
   "outputs": [],
   "source": [
    "from dagshub.data_engine import datasources\n",
    "ds = datasources.get_datasource('<user_name/repo_name>', '<datasource_name>')"
   ]
  },
  {
   "cell_type": "markdown",
   "metadata": {},
   "source": [
    "## Option 1: use preconfiguered model\n",
    "### Import the desired model, run one of the following cells."
   ]
  },
  {
   "cell_type": "markdown",
   "metadata": {},
   "source": [
    "Object Detection"
   ]
  },
  {
   "cell_type": "code",
   "execution_count": null,
   "metadata": {},
   "outputs": [],
   "source": [
    "from preconfigured_models.image_to_image.object_detection import get_config"
   ]
  },
  {
   "cell_type": "markdown",
   "metadata": {},
   "source": [
    "Polygon Segmentation"
   ]
  },
  {
   "cell_type": "code",
   "execution_count": null,
   "metadata": {},
   "outputs": [],
   "source": [
    "from preconfigured_models.image_to_image.polygon_segmentation import get_config"
   ]
  },
  {
   "cell_type": "markdown",
   "metadata": {},
   "source": [
    "Automatic Speech Recognition"
   ]
  },
  {
   "cell_type": "code",
   "execution_count": null,
   "metadata": {},
   "outputs": [],
   "source": [
    "from preconfigured_models.audio_to_text.automatic_speech_recognition import get_config"
   ]
  },
  {
   "cell_type": "markdown",
   "metadata": {},
   "source": [
    "Optical Character Recognition"
   ]
  },
  {
   "cell_type": "code",
   "execution_count": null,
   "metadata": {},
   "outputs": [],
   "source": [
    "from preconfigured_models.image_to_text.ocr import get_config"
   ]
  },
  {
   "cell_type": "markdown",
   "metadata": {},
   "source": [
    "### Finally, add the backend "
   ]
  },
  {
   "cell_type": "code",
   "execution_count": null,
   "metadata": {
    "scrolled": true
   },
   "outputs": [],
   "source": [
    "await ds.add_annotation_model_from_config(get_config(),\n",
    "                                    project_name='<label_studio_project_name>',  # if this project exists, it will overrwrite the config, otherwise it will initialize the project and setup the config\n",
    "                                    ngrok_authtoken='<ngrok_token>', # find your token here: https://dashboard.ngrok.com/authtokens\n",
    "                                    )"
   ]
  },
  {
   "cell_type": "markdown",
   "metadata": {},
   "source": [
    "## Option 2: Use your own model!"
   ]
  },
  {
   "cell_type": "code",
   "execution_count": null,
   "metadata": {},
   "outputs": [],
   "source": [
    "# Import post_hook that fits your type of model\n",
    "from hooks.polygon_segmentation import post_hook\n",
    "# for more information about writing your own post_hook: \n",
    "# https://github.com/DagsHub/ls-configurable-model?tab=readme-ov-file#building-post-hooks\n",
    "\n",
    "ds.add_annotation_model('<user_name/repo_name>', \n",
    "\t\t\t\t\t\t'<model_name>', \n",
    "\t\t\t\t\t\tpost_hook,\n",
    "\t\t\t\t\t\tproject_name='<label_studio_project_name>',  # if this project exists, it will overrwrite the config, otherwise it will initialize the project and setup the config\n",
    "\t\t\t\t\t\tngrok_authtoken='<ngrok_token>', # find your token here: https://dashboard.ngrok.com/authtokens\n",
    "\t\t\t\t\t\t)\n",
    "\t\t\t\t\t\t       "
   ]
  },
  {
   "cell_type": "code",
   "execution_count": null,
   "metadata": {},
   "outputs": [],
   "source": [
    "# You can always run this to get more info\n",
    "help(ds.add_annotation_model)"
   ]
  }
 ],
 "metadata": {
  "colab": {
   "provenance": []
  },
  "kernelspec": {
   "display_name": "Python 3 (ipykernel)",
   "language": "python",
   "name": "python3"
  },
  "language_info": {
   "codemirror_mode": {
    "name": "ipython",
    "version": 3
   },
   "file_extension": ".py",
   "mimetype": "text/x-python",
   "name": "python",
   "nbconvert_exporter": "python",
   "pygments_lexer": "ipython3",
   "version": "3.12.0"
  }
 },
 "nbformat": 4,
 "nbformat_minor": 4
}
