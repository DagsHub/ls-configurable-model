{
 "cells": [
  {
   "cell_type": "code",
   "execution_count": 4,
   "id": "d5388c5c-ce3d-40ab-aad7-66a96a00f267",
   "metadata": {},
   "outputs": [],
   "source": [
    "import register"
   ]
  },
  {
   "cell_type": "code",
   "execution_count": null,
   "id": "e7ab5b63-928d-4adc-86e6-79c427624392",
   "metadata": {},
   "outputs": [],
   "source": [
    "register.register_model()"
   ]
  },
  {
   "cell_type": "code",
   "execution_count": 2,
   "id": "81b50401-9842-4a11-852d-11846fd5be2f",
   "metadata": {},
   "outputs": [],
   "source": [
    "model = register.EasyOCRModel()\n",
    "model.load_context(None)\n",
    "model.predict(context=None, model_input=['/Users/dean/Downloads/Image 000000000094.jpg'])"
   ]
  }
 ],
 "metadata": {
  "kernelspec": {
   "display_name": "Python 3 (ipykernel)",
   "language": "python",
   "name": "python3"
  },
  "language_info": {
   "codemirror_mode": {
    "name": "ipython",
    "version": 3
   },
   "file_extension": ".py",
   "mimetype": "text/x-python",
   "name": "python",
   "nbconvert_exporter": "python",
   "pygments_lexer": "ipython3",
   "version": "3.12.0"
  }
 },
 "nbformat": 4,
 "nbformat_minor": 5
}
