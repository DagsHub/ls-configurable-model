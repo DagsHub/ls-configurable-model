{
 "cells": [
  {
   "cell_type": "code",
   "execution_count": null,
   "id": "1cd8aca8-3e9f-4f7b-917c-19dc7647656b",
   "metadata": {},
   "outputs": [],
   "source": [
    "%pip install -r requirements.txt"
   ]
  },
  {
   "cell_type": "code",
   "execution_count": 1,
   "id": "0670198a-9d60-4c08-8c28-b9380e74ee76",
   "metadata": {},
   "outputs": [],
   "source": [
    "import register\n",
    "import ultralytics"
   ]
  },
  {
   "cell_type": "code",
   "execution_count": 3,
   "id": "de017f27-26b2-41ed-816c-6e8fea78c90a",
   "metadata": {},
   "outputs": [
    {
     "name": "stdout",
     "output_type": "stream",
     "text": [
      "Downloading https://github.com/ultralytics/assets/releases/download/v8.2.0/yolov8n.pt to 'yolov8n.pt'...\n"
     ]
    },
    {
     "name": "stderr",
     "output_type": "stream",
     "text": [
      "100%|████████████████████████████████████████| 6.25M/6.25M [00:00<00:00, 16.1MB/s]\n"
     ]
    }
   ],
   "source": [
    "model = ultralytics.YOLO('yolov8n.pt', task='detect')"
   ]
  },
  {
   "cell_type": "code",
   "execution_count": 4,
   "id": "7b7948b8-9dfb-4c50-ad69-9506997505d0",
   "metadata": {},
   "outputs": [
    {
     "data": {
      "text/html": [
       "<pre style=\"white-space:pre;overflow-x:auto;line-height:normal;font-family:Menlo,'DejaVu Sans Mono',consolas,'Courier New',monospace\">Initialized MLflow to track repo <span style=\"color: #008000; text-decoration-color: #008000\">\"DagsHub/ls-configurable-model\"</span>\n",
       "</pre>\n"
      ],
      "text/plain": [
       "Initialized MLflow to track repo \u001b[32m\"DagsHub/ls-configurable-model\"\u001b[0m\n"
      ]
     },
     "metadata": {},
     "output_type": "display_data"
    },
    {
     "data": {
      "text/html": [
       "<pre style=\"white-space:pre;overflow-x:auto;line-height:normal;font-family:Menlo,'DejaVu Sans Mono',consolas,'Courier New',monospace\">Repository DagsHub/ls-configurable-model initialized!\n",
       "</pre>\n"
      ],
      "text/plain": [
       "Repository DagsHub/ls-configurable-model initialized!\n"
      ]
     },
     "metadata": {},
     "output_type": "display_data"
    },
    {
     "data": {
      "application/vnd.jupyter.widget-view+json": {
       "model_id": "b8a8053295ab4e50b7595e7ccbaca56d",
       "version_major": 2,
       "version_minor": 0
      },
      "text/plain": [
       "Downloading artifacts:   0%|          | 0/1 [00:00<?, ?it/s]"
      ]
     },
     "metadata": {},
     "output_type": "display_data"
    },
    {
     "name": "stderr",
     "output_type": "stream",
     "text": [
      "2024/10/19 22:23:05 WARNING mlflow.models.model: Model logged without a signature and input example. Please set `input_example` parameter when logging the model to auto infer the model signature.\n",
      "Successfully registered model 'object_detection'.\n",
      "2024/10/19 22:23:11 INFO mlflow.store.model_registry.abstract_store: Waiting up to 300 seconds for model version to finish creation. Model name: object_detection, version 1\n",
      "Created version '1' of model 'object_detection'.\n",
      "2024/10/19 22:23:12 INFO mlflow.tracking._tracking_service.client: 🏃 View run adaptable-shark-83 at: https://dagshub.com/DagsHub/ls-configurable-model.mlflow/#/experiments/0/runs/4ec0a447a38241beb5a0401ddf503c87.\n",
      "2024/10/19 22:23:12 INFO mlflow.tracking._tracking_service.client: 🧪 View experiment at: https://dagshub.com/DagsHub/ls-configurable-model.mlflow/#/experiments/0.\n"
     ]
    }
   ],
   "source": [
    "register.register_model()"
   ]
  }
 ],
 "metadata": {
  "kernelspec": {
   "display_name": "Python 3 (ipykernel)",
   "language": "python",
   "name": "python3"
  },
  "language_info": {
   "codemirror_mode": {
    "name": "ipython",
    "version": 3
   },
   "file_extension": ".py",
   "mimetype": "text/x-python",
   "name": "python",
   "nbconvert_exporter": "python",
   "pygments_lexer": "ipython3",
   "version": "3.12.0"
  }
 },
 "nbformat": 4,
 "nbformat_minor": 5
}
